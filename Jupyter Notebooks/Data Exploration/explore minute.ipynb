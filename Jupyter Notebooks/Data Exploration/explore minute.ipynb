{
 "cells": [
  {
   "cell_type": "code",
   "execution_count": 1,
   "metadata": {},
   "outputs": [],
   "source": [
    "import pandas as pd\n",
    "import numpy as np\n",
    "%matplotlib inline\n",
    "import matplotlib.pyplot as plt\n",
    "import sklearn\n",
    "\n",
    "fake100k = pd.read_csv('E:/Vancouver Crime Final/Synthetic Data/random_100k_fake.csv')\n",
    "realboth = pd.read_csv('E:/Vancouver Crime Final/Synthetic Data/both_bne_real.csv')\n",
    "realresidential = pd.read_csv('E:/Vancouver Crime Final/Synthetic Data/residential_bne_real.csv')\n",
    "realcommercial = pd.read_csv('E:/Vancouver Crime Final/Synthetic Data/commercial_bne_real.csv')"
   ]
  },
  {
   "cell_type": "code",
   "execution_count": 10,
   "metadata": {},
   "outputs": [
    {
     "data": {
      "text/plain": [
       "count    100022.000000\n",
       "mean         29.485343\n",
       "std          17.268476\n",
       "min           0.000000\n",
       "25%          15.000000\n",
       "50%          30.000000\n",
       "75%          44.000000\n",
       "max          59.000000\n",
       "Name: minute, dtype: float64"
      ]
     },
     "execution_count": 10,
     "metadata": {},
     "output_type": "execute_result"
    }
   ],
   "source": [
    "fake100k['minute'].describe()"
   ]
  },
  {
   "cell_type": "code",
   "execution_count": 6,
   "metadata": {},
   "outputs": [
    {
     "data": {
      "text/plain": [
       "count    104137.000000\n",
       "mean         17.757445\n",
       "std          18.499218\n",
       "min           0.000000\n",
       "25%           0.000000\n",
       "50%          14.000000\n",
       "75%          30.000000\n",
       "max          59.000000\n",
       "Name: minute, dtype: float64"
      ]
     },
     "execution_count": 6,
     "metadata": {},
     "output_type": "execute_result"
    }
   ],
   "source": [
    "realboth['minute'].describe()"
   ]
  },
  {
   "cell_type": "code",
   "execution_count": 11,
   "metadata": {},
   "outputs": [
    {
     "data": {
      "text/plain": [
       "count    65780.000000\n",
       "mean        16.577197\n",
       "std         18.153503\n",
       "min          0.000000\n",
       "25%          0.000000\n",
       "50%         10.000000\n",
       "75%         30.000000\n",
       "max         59.000000\n",
       "Name: minute, dtype: float64"
      ]
     },
     "execution_count": 11,
     "metadata": {},
     "output_type": "execute_result"
    }
   ],
   "source": [
    "realresidential['minute'].describe()"
   ]
  },
  {
   "cell_type": "code",
   "execution_count": 12,
   "metadata": {},
   "outputs": [
    {
     "data": {
      "text/plain": [
       "count    38357.00000\n",
       "mean        19.78150\n",
       "std         18.90701\n",
       "min          0.00000\n",
       "25%          0.00000\n",
       "50%         17.00000\n",
       "75%         33.00000\n",
       "max         59.00000\n",
       "Name: minute, dtype: float64"
      ]
     },
     "execution_count": 12,
     "metadata": {},
     "output_type": "execute_result"
    }
   ],
   "source": [
    "realcommercial['minute'].describe()"
   ]
  },
  {
   "cell_type": "code",
   "execution_count": null,
   "metadata": {},
   "outputs": [],
   "source": []
  }
 ],
 "metadata": {
  "kernelspec": {
   "display_name": "Python 3",
   "language": "python",
   "name": "python3"
  },
  "language_info": {
   "codemirror_mode": {
    "name": "ipython",
    "version": 3
   },
   "file_extension": ".py",
   "mimetype": "text/x-python",
   "name": "python",
   "nbconvert_exporter": "python",
   "pygments_lexer": "ipython3",
   "version": "3.7.3"
  }
 },
 "nbformat": 4,
 "nbformat_minor": 2
}
