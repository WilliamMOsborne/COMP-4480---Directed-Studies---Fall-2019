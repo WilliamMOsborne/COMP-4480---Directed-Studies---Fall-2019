{
 "cells": [
  {
   "cell_type": "code",
   "execution_count": 1,
   "metadata": {},
   "outputs": [
    {
     "data": {
      "text/html": [
       "<div>\n",
       "<style scoped>\n",
       "    .dataframe tbody tr th:only-of-type {\n",
       "        vertical-align: middle;\n",
       "    }\n",
       "\n",
       "    .dataframe tbody tr th {\n",
       "        vertical-align: top;\n",
       "    }\n",
       "\n",
       "    .dataframe thead th {\n",
       "        text-align: right;\n",
       "    }\n",
       "</style>\n",
       "<table border=\"1\" class=\"dataframe\">\n",
       "  <thead>\n",
       "    <tr style=\"text-align: right;\">\n",
       "      <th></th>\n",
       "      <th>c_id</th>\n",
       "      <th>type</th>\n",
       "      <th>datetime</th>\n",
       "      <th>year</th>\n",
       "      <th>month</th>\n",
       "      <th>day</th>\n",
       "      <th>hour</th>\n",
       "      <th>minute</th>\n",
       "      <th>Hour_Minute</th>\n",
       "      <th>hundred_block</th>\n",
       "      <th>...</th>\n",
       "      <th>signal_200</th>\n",
       "      <th>trees_25</th>\n",
       "      <th>trees_100</th>\n",
       "      <th>rain_mm</th>\n",
       "      <th>snow_cm</th>\n",
       "      <th>total_precip_mm</th>\n",
       "      <th>temp_c</th>\n",
       "      <th>humidity</th>\n",
       "      <th>pressure</th>\n",
       "      <th>hours_of_light</th>\n",
       "    </tr>\n",
       "  </thead>\n",
       "  <tbody>\n",
       "    <tr>\n",
       "      <th>0</th>\n",
       "      <td>3</td>\n",
       "      <td>Break and Enter Residential/Other</td>\n",
       "      <td>2003-01-01 00:00:00</td>\n",
       "      <td>2003</td>\n",
       "      <td>1</td>\n",
       "      <td>1</td>\n",
       "      <td>0</td>\n",
       "      <td>0</td>\n",
       "      <td>0.000000</td>\n",
       "      <td>9XX W 15TH AVE</td>\n",
       "      <td>...</td>\n",
       "      <td>2</td>\n",
       "      <td>0</td>\n",
       "      <td>32</td>\n",
       "      <td>21.6</td>\n",
       "      <td>0.0</td>\n",
       "      <td>21.6</td>\n",
       "      <td>5.8</td>\n",
       "      <td>81.0</td>\n",
       "      <td>101.70</td>\n",
       "      <td>9.53</td>\n",
       "    </tr>\n",
       "    <tr>\n",
       "      <th>1</th>\n",
       "      <td>9</td>\n",
       "      <td>Break and Enter Commercial</td>\n",
       "      <td>2003-01-01 00:00:00</td>\n",
       "      <td>2003</td>\n",
       "      <td>1</td>\n",
       "      <td>1</td>\n",
       "      <td>0</td>\n",
       "      <td>0</td>\n",
       "      <td>0.000000</td>\n",
       "      <td>64XX VICTORIA DR</td>\n",
       "      <td>...</td>\n",
       "      <td>2</td>\n",
       "      <td>5</td>\n",
       "      <td>40</td>\n",
       "      <td>21.6</td>\n",
       "      <td>0.0</td>\n",
       "      <td>21.6</td>\n",
       "      <td>5.8</td>\n",
       "      <td>81.0</td>\n",
       "      <td>101.70</td>\n",
       "      <td>9.53</td>\n",
       "    </tr>\n",
       "    <tr>\n",
       "      <th>2</th>\n",
       "      <td>14</td>\n",
       "      <td>Break and Enter Residential/Other</td>\n",
       "      <td>2003-01-01 00:00:00</td>\n",
       "      <td>2003</td>\n",
       "      <td>1</td>\n",
       "      <td>1</td>\n",
       "      <td>0</td>\n",
       "      <td>1</td>\n",
       "      <td>0.016667</td>\n",
       "      <td>34XX W 42ND AVE</td>\n",
       "      <td>...</td>\n",
       "      <td>3</td>\n",
       "      <td>6</td>\n",
       "      <td>38</td>\n",
       "      <td>21.6</td>\n",
       "      <td>0.0</td>\n",
       "      <td>21.6</td>\n",
       "      <td>5.8</td>\n",
       "      <td>81.0</td>\n",
       "      <td>101.70</td>\n",
       "      <td>9.53</td>\n",
       "    </tr>\n",
       "    <tr>\n",
       "      <th>3</th>\n",
       "      <td>18</td>\n",
       "      <td>Break and Enter Residential/Other</td>\n",
       "      <td>2003-01-01 00:00:00</td>\n",
       "      <td>2003</td>\n",
       "      <td>1</td>\n",
       "      <td>1</td>\n",
       "      <td>0</td>\n",
       "      <td>20</td>\n",
       "      <td>0.333333</td>\n",
       "      <td>19XX PARKER ST</td>\n",
       "      <td>...</td>\n",
       "      <td>1</td>\n",
       "      <td>8</td>\n",
       "      <td>88</td>\n",
       "      <td>21.6</td>\n",
       "      <td>0.0</td>\n",
       "      <td>21.6</td>\n",
       "      <td>5.8</td>\n",
       "      <td>81.0</td>\n",
       "      <td>101.70</td>\n",
       "      <td>9.53</td>\n",
       "    </tr>\n",
       "    <tr>\n",
       "      <th>4</th>\n",
       "      <td>29</td>\n",
       "      <td>Break and Enter Residential/Other</td>\n",
       "      <td>2003-01-01 01:01:00</td>\n",
       "      <td>2003</td>\n",
       "      <td>1</td>\n",
       "      <td>1</td>\n",
       "      <td>1</td>\n",
       "      <td>46</td>\n",
       "      <td>1.766667</td>\n",
       "      <td>45XX MAIN ST</td>\n",
       "      <td>...</td>\n",
       "      <td>2</td>\n",
       "      <td>8</td>\n",
       "      <td>83</td>\n",
       "      <td>21.6</td>\n",
       "      <td>0.0</td>\n",
       "      <td>21.6</td>\n",
       "      <td>6.2</td>\n",
       "      <td>78.0</td>\n",
       "      <td>101.73</td>\n",
       "      <td>9.53</td>\n",
       "    </tr>\n",
       "    <tr>\n",
       "      <th>...</th>\n",
       "      <td>...</td>\n",
       "      <td>...</td>\n",
       "      <td>...</td>\n",
       "      <td>...</td>\n",
       "      <td>...</td>\n",
       "      <td>...</td>\n",
       "      <td>...</td>\n",
       "      <td>...</td>\n",
       "      <td>...</td>\n",
       "      <td>...</td>\n",
       "      <td>...</td>\n",
       "      <td>...</td>\n",
       "      <td>...</td>\n",
       "      <td>...</td>\n",
       "      <td>...</td>\n",
       "      <td>...</td>\n",
       "      <td>...</td>\n",
       "      <td>...</td>\n",
       "      <td>...</td>\n",
       "      <td>...</td>\n",
       "      <td>...</td>\n",
       "    </tr>\n",
       "    <tr>\n",
       "      <th>104132</th>\n",
       "      <td>552373</td>\n",
       "      <td>Break and Enter Residential/Other</td>\n",
       "      <td>2019-08-29 00:00:00</td>\n",
       "      <td>2019</td>\n",
       "      <td>8</td>\n",
       "      <td>29</td>\n",
       "      <td>0</td>\n",
       "      <td>0</td>\n",
       "      <td>0.000000</td>\n",
       "      <td>42XX KASLO ST</td>\n",
       "      <td>...</td>\n",
       "      <td>2</td>\n",
       "      <td>2</td>\n",
       "      <td>41</td>\n",
       "      <td>0.0</td>\n",
       "      <td>0.0</td>\n",
       "      <td>0.0</td>\n",
       "      <td>17.1</td>\n",
       "      <td>84.0</td>\n",
       "      <td>101.09</td>\n",
       "      <td>14.74</td>\n",
       "    </tr>\n",
       "    <tr>\n",
       "      <th>104133</th>\n",
       "      <td>552376</td>\n",
       "      <td>Break and Enter Commercial</td>\n",
       "      <td>2019-08-29 04:04:00</td>\n",
       "      <td>2019</td>\n",
       "      <td>8</td>\n",
       "      <td>29</td>\n",
       "      <td>4</td>\n",
       "      <td>18</td>\n",
       "      <td>4.300000</td>\n",
       "      <td>8X KEEFER PL</td>\n",
       "      <td>...</td>\n",
       "      <td>5</td>\n",
       "      <td>6</td>\n",
       "      <td>38</td>\n",
       "      <td>0.0</td>\n",
       "      <td>0.0</td>\n",
       "      <td>0.0</td>\n",
       "      <td>15.0</td>\n",
       "      <td>95.0</td>\n",
       "      <td>101.15</td>\n",
       "      <td>14.74</td>\n",
       "    </tr>\n",
       "    <tr>\n",
       "      <th>104134</th>\n",
       "      <td>552379</td>\n",
       "      <td>Break and Enter Residential/Other</td>\n",
       "      <td>2019-08-29 06:06:00</td>\n",
       "      <td>2019</td>\n",
       "      <td>8</td>\n",
       "      <td>29</td>\n",
       "      <td>6</td>\n",
       "      <td>44</td>\n",
       "      <td>6.733333</td>\n",
       "      <td>6XX E 10TH AVE</td>\n",
       "      <td>...</td>\n",
       "      <td>3</td>\n",
       "      <td>10</td>\n",
       "      <td>66</td>\n",
       "      <td>0.0</td>\n",
       "      <td>0.0</td>\n",
       "      <td>0.0</td>\n",
       "      <td>14.9</td>\n",
       "      <td>92.0</td>\n",
       "      <td>101.26</td>\n",
       "      <td>14.74</td>\n",
       "    </tr>\n",
       "    <tr>\n",
       "      <th>104135</th>\n",
       "      <td>552382</td>\n",
       "      <td>Break and Enter Residential/Other</td>\n",
       "      <td>2019-08-29 11:11:00</td>\n",
       "      <td>2019</td>\n",
       "      <td>8</td>\n",
       "      <td>29</td>\n",
       "      <td>11</td>\n",
       "      <td>30</td>\n",
       "      <td>11.500000</td>\n",
       "      <td>6XX UNION ST</td>\n",
       "      <td>...</td>\n",
       "      <td>3</td>\n",
       "      <td>9</td>\n",
       "      <td>84</td>\n",
       "      <td>0.0</td>\n",
       "      <td>0.0</td>\n",
       "      <td>0.0</td>\n",
       "      <td>24.7</td>\n",
       "      <td>52.0</td>\n",
       "      <td>101.35</td>\n",
       "      <td>14.74</td>\n",
       "    </tr>\n",
       "    <tr>\n",
       "      <th>104136</th>\n",
       "      <td>552393</td>\n",
       "      <td>Break and Enter Residential/Other</td>\n",
       "      <td>2019-08-29 14:14:00</td>\n",
       "      <td>2019</td>\n",
       "      <td>8</td>\n",
       "      <td>29</td>\n",
       "      <td>14</td>\n",
       "      <td>26</td>\n",
       "      <td>14.433333</td>\n",
       "      <td>50XX CYPRESS ST</td>\n",
       "      <td>...</td>\n",
       "      <td>1</td>\n",
       "      <td>1</td>\n",
       "      <td>38</td>\n",
       "      <td>0.0</td>\n",
       "      <td>0.0</td>\n",
       "      <td>0.0</td>\n",
       "      <td>25.4</td>\n",
       "      <td>50.0</td>\n",
       "      <td>101.32</td>\n",
       "      <td>14.74</td>\n",
       "    </tr>\n",
       "  </tbody>\n",
       "</table>\n",
       "<p>104137 rows × 32 columns</p>\n",
       "</div>"
      ],
      "text/plain": [
       "          c_id                               type             datetime  year  \\\n",
       "0            3  Break and Enter Residential/Other  2003-01-01 00:00:00  2003   \n",
       "1            9         Break and Enter Commercial  2003-01-01 00:00:00  2003   \n",
       "2           14  Break and Enter Residential/Other  2003-01-01 00:00:00  2003   \n",
       "3           18  Break and Enter Residential/Other  2003-01-01 00:00:00  2003   \n",
       "4           29  Break and Enter Residential/Other  2003-01-01 01:01:00  2003   \n",
       "...        ...                                ...                  ...   ...   \n",
       "104132  552373  Break and Enter Residential/Other  2019-08-29 00:00:00  2019   \n",
       "104133  552376         Break and Enter Commercial  2019-08-29 04:04:00  2019   \n",
       "104134  552379  Break and Enter Residential/Other  2019-08-29 06:06:00  2019   \n",
       "104135  552382  Break and Enter Residential/Other  2019-08-29 11:11:00  2019   \n",
       "104136  552393  Break and Enter Residential/Other  2019-08-29 14:14:00  2019   \n",
       "\n",
       "        month  day  hour  minute  Hour_Minute     hundred_block  ...  \\\n",
       "0           1    1     0       0     0.000000    9XX W 15TH AVE  ...   \n",
       "1           1    1     0       0     0.000000  64XX VICTORIA DR  ...   \n",
       "2           1    1     0       1     0.016667   34XX W 42ND AVE  ...   \n",
       "3           1    1     0      20     0.333333    19XX PARKER ST  ...   \n",
       "4           1    1     1      46     1.766667      45XX MAIN ST  ...   \n",
       "...       ...  ...   ...     ...          ...               ...  ...   \n",
       "104132      8   29     0       0     0.000000     42XX KASLO ST  ...   \n",
       "104133      8   29     4      18     4.300000      8X KEEFER PL  ...   \n",
       "104134      8   29     6      44     6.733333    6XX E 10TH AVE  ...   \n",
       "104135      8   29    11      30    11.500000      6XX UNION ST  ...   \n",
       "104136      8   29    14      26    14.433333   50XX CYPRESS ST  ...   \n",
       "\n",
       "       signal_200  trees_25  trees_100  rain_mm  snow_cm  total_precip_mm  \\\n",
       "0               2         0         32     21.6      0.0             21.6   \n",
       "1               2         5         40     21.6      0.0             21.6   \n",
       "2               3         6         38     21.6      0.0             21.6   \n",
       "3               1         8         88     21.6      0.0             21.6   \n",
       "4               2         8         83     21.6      0.0             21.6   \n",
       "...           ...       ...        ...      ...      ...              ...   \n",
       "104132          2         2         41      0.0      0.0              0.0   \n",
       "104133          5         6         38      0.0      0.0              0.0   \n",
       "104134          3        10         66      0.0      0.0              0.0   \n",
       "104135          3         9         84      0.0      0.0              0.0   \n",
       "104136          1         1         38      0.0      0.0              0.0   \n",
       "\n",
       "        temp_c  humidity  pressure  hours_of_light  \n",
       "0          5.8      81.0    101.70            9.53  \n",
       "1          5.8      81.0    101.70            9.53  \n",
       "2          5.8      81.0    101.70            9.53  \n",
       "3          5.8      81.0    101.70            9.53  \n",
       "4          6.2      78.0    101.73            9.53  \n",
       "...        ...       ...       ...             ...  \n",
       "104132    17.1      84.0    101.09           14.74  \n",
       "104133    15.0      95.0    101.15           14.74  \n",
       "104134    14.9      92.0    101.26           14.74  \n",
       "104135    24.7      52.0    101.35           14.74  \n",
       "104136    25.4      50.0    101.32           14.74  \n",
       "\n",
       "[104137 rows x 32 columns]"
      ]
     },
     "execution_count": 1,
     "metadata": {},
     "output_type": "execute_result"
    }
   ],
   "source": [
    "import pandas as pd\n",
    "import numpy as np\n",
    "%matplotlib inline\n",
    "import matplotlib.pyplot as plt\n",
    "import sklearn\n",
    "\n",
    "crime = pd.read_csv('E:/Vancouver Crime Final/Synthetic Data/both_bne_real.csv')\n",
    "\n",
    "crime"
   ]
  },
  {
   "cell_type": "code",
   "execution_count": 3,
   "metadata": {},
   "outputs": [
    {
     "data": {
      "image/png": "[encoded data removed]",
      "text/plain": [
       "<Figure size 432x288 with 1 Axes>"
      ]
     },
     "metadata": {
      "needs_background": "light"
     },
     "output_type": "display_data"
    }
   ],
   "source": [
    "crime[['minute']].plot(kind='hist',bins=[0, 5, 10, 15, 20, 25, 30, 35, 40, 45, 50, 55, 60],rwidth=0.8)\n",
    "plt.show()"
   ]
  },
  {
   "cell_type": "code",
   "execution_count": 4,
   "metadata": {},
   "outputs": [
    {
     "data": {
      "image/png": "[encoded data removed]",
      "text/plain": [
       "<Figure size 432x288 with 1 Axes>"
      ]
     },
     "metadata": {
      "needs_background": "light"
     },
     "output_type": "display_data"
    }
   ],
   "source": [
    "synthetic = pd.read_csv('E:/Vancouver Crime Final/Synthetic Data/random_100k_fake.csv')\n",
    "\n",
    "synthetic[['minute']].plot(kind='hist',bins=[0,5, 10, 15, 20, 25, 30, 35, 40, 45, 50, 55, 60],rwidth=0.8)\n",
    "plt.show()"
   ]
  },
  {
   "cell_type": "code",
   "execution_count": 10,
   "metadata": {},
   "outputs": [
    {
     "data": {
      "image/png": "[encoded data removed]",
      "text/plain": [
       "<Figure size 432x288 with 1 Axes>"
      ]
     },
     "metadata": {
      "needs_background": "light"
     },
     "output_type": "display_data"
    }
   ],
   "source": [
    "crime[['hour']].plot(kind='hist',bins=[0, 1, 2, 3, 4, 5, 6, 7, 8, 9, 10, 11, 12, 13, 14, 15, 16, 17, 18, 19, 20, 21, 22, 23, 24],rwidth=0.8)\n",
    "plt.show()"
   ]
  },
  {
   "cell_type": "code",
   "execution_count": 8,
   "metadata": {},
   "outputs": [
    {
     "data": {
      "image/png": "[encoded data removed]",
      "text/plain": [
       "<Figure size 432x288 with 1 Axes>"
      ]
     },
     "metadata": {
      "needs_background": "light"
     },
     "output_type": "display_data"
    }
   ],
   "source": [
    "synthetic[['hour']].plot(kind='hist',bins=[0, 1, 2, 3, 4, 5, 6, 7, 8, 9, 10, 11, 12, 13, 14, 15, 16, 17, 18, 19, 20, 21, 22, 23, 24],rwidth=0.8)\n",
    "plt.show()"
   ]
  },
  {
   "cell_type": "code",
   "execution_count": 11,
   "metadata": {},
   "outputs": [
    {
     "data": {
      "image/png": "[encoded data removed]",
      "text/plain": [
       "<Figure size 432x288 with 1 Axes>"
      ]
     },
     "metadata": {
      "needs_background": "light"
     },
     "output_type": "display_data"
    }
   ],
   "source": [
    "crime[['day']].plot(kind='hist',bins=[0, 5, 10, 15, 20, 25, 30],rwidth=0.8)\n",
    "plt.show()"
   ]
  },
  {
   "cell_type": "code",
   "execution_count": 12,
   "metadata": {},
   "outputs": [
    {
     "data": {
      "image/png": "[encoded data removed]",
      "text/plain": [
       "<Figure size 432x288 with 1 Axes>"
      ]
     },
     "metadata": {
      "needs_background": "light"
     },
     "output_type": "display_data"
    }
   ],
   "source": [
    "synthetic[['day']].plot(kind='hist',bins=[0, 5, 10, 15, 20, 25, 30],rwidth=0.8)\n",
    "plt.show()"
   ]
  },
  {
   "cell_type": "code",
   "execution_count": 16,
   "metadata": {},
   "outputs": [
    {
     "data": {
      "image/png": "[encoded data removed]",
      "text/plain": [
       "<Figure size 432x288 with 1 Axes>"
      ]
     },
     "metadata": {
      "needs_background": "light"
     },
     "output_type": "display_data"
    }
   ],
   "source": [
    "crime[['month']].plot(kind='hist',bins=[1, 2, 3, 4, 5, 6, 7, 8, 9, 10, 11, 12, 13],rwidth=0.8)\n",
    "plt.show()"
   ]
  },
  {
   "cell_type": "code",
   "execution_count": null,
   "metadata": {},
   "outputs": [],
   "source": []
  }
 ],
 "metadata": {
  "kernelspec": {
   "display_name": "Python 3",
   "language": "python",
   "name": "python3"
  },
  "language_info": {
   "codemirror_mode": {
    "name": "ipython",
    "version": 3
   },
   "file_extension": ".py",
   "mimetype": "text/x-python",
   "name": "python",
   "nbconvert_exporter": "python",
   "pygments_lexer": "ipython3",
   "version": "3.7.3"
  }
 },
 "nbformat": 4,
 "nbformat_minor": 2
}
